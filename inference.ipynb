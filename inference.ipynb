{
 "cells": [
  {
   "cell_type": "code",
   "execution_count": null,
   "source": [
    "import torch\r\n",
    "import numpy as np\r\n",
    "import pandas as pd\r\n",
    "from torch.utils.data import DataLoader\r\n",
    "from dataset import TestDataset\r\n",
    "import config\r\n",
    "from model import SiameseNet\r\n",
    "from torch.utils.data import DataLoader\r\n",
    "from sklearn.metrics import roc_curve, accuracy_score\r\n"
   ],
   "outputs": [],
   "metadata": {}
  },
  {
   "cell_type": "code",
   "execution_count": null,
   "source": [
    "PATH = config.PATH\r\n",
    "device = torch.device('cuda' if torch.cuda.is_available() else 'cpu')\r\n",
    "model = SiameseNet().to(device)\r\n",
    "csv_path='csv/test_imgs_labels.csv'\r\n",
    "\r\n",
    "model.load_state_dict(torch.load(PATH, map_location=device))\r\n"
   ],
   "outputs": [],
   "metadata": {}
  },
  {
   "cell_type": "code",
   "execution_count": null,
   "source": [
    "dataset=TestDataset(\r\n",
    "    csv_path,\r\n",
    "    transform=config.transform,\r\n",
    ")\r\n",
    "\r\n",
    "sampleloader = DataLoader(dataset=dataset, batch_size=1, shuffle=True)\r\n",
    "\r\n",
    "probs = []\r\n",
    "target = []\r\n",
    "with torch.no_grad():\r\n",
    "    for batch_idx, (anchor, sample, label) in enumerate(sampleloader):\r\n",
    "        anchor, sample = anchor.to(device), sample.to(device)\r\n",
    "\r\n",
    "        anchor_out, sample_out = model.forward_prediction(anchor, sample)\r\n",
    "        ASD = torch.sigmoid((anchor_out - sample_out).pow(2).sum(1))\r\n",
    "        probs.append(ASD.cpu().detach().numpy())\r\n",
    "        target.append(label.detach().numpy())"
   ],
   "outputs": [],
   "metadata": {}
  },
  {
   "cell_type": "code",
   "execution_count": null,
   "source": [
    "probs=[item.tolist()[0] for item in probs]\r\n",
    "target= [items.tolist()[0] for items in target]\r\n",
    "\r\n",
    "fpr, tpr, thresholds = roc_curve(target, probs)\r\n",
    "\r\n",
    "gmean = np.sqrt(tpr * (1 - fpr))\r\n",
    "index = np.argmax(gmean)\r\n",
    "thresholdOpt = round(thresholds[index], ndigits=4)\r\n"
   ],
   "outputs": [],
   "metadata": {}
  },
  {
   "cell_type": "code",
   "execution_count": null,
   "source": [
    "pred = [1 if x >= thresholdOpt else 0 for x in probs]"
   ],
   "outputs": [],
   "metadata": {}
  },
  {
   "cell_type": "code",
   "execution_count": null,
   "source": [
    "print('Accuracy:', accuracy_score(target,pred))"
   ],
   "outputs": [],
   "metadata": {}
  },
  {
   "cell_type": "code",
   "execution_count": null,
   "source": [],
   "outputs": [],
   "metadata": {}
  }
 ],
 "metadata": {
  "orig_nbformat": 4,
  "language_info": {
   "name": "python",
   "version": "3.9.6",
   "mimetype": "text/x-python",
   "codemirror_mode": {
    "name": "ipython",
    "version": 3
   },
   "pygments_lexer": "ipython3",
   "nbconvert_exporter": "python",
   "file_extension": ".py"
  },
  "kernelspec": {
   "name": "python3",
   "display_name": "Python 3.9.6 64-bit ('pytorch': conda)"
  },
  "interpreter": {
   "hash": "58cf3629d02cb2c1ea818e91db81397e48f0a5884d509c9d5890fe852e127513"
  }
 },
 "nbformat": 4,
 "nbformat_minor": 2
}